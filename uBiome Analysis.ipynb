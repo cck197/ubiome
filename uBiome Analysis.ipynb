{
  "nbformat": 4,
  "nbformat_minor": 0,
  "metadata": {
    "colab": {
      "name": "uBiome Analysis.ipynb",
      "version": "0.3.2",
      "provenance": [],
      "toc_visible": true,
      "include_colab_link": true
    },
    "language_info": {
      "codemirror_mode": {
        "name": "ipython",
        "version": 3
      },
      "file_extension": ".py",
      "mimetype": "text/x-python",
      "name": "python",
      "nbconvert_exporter": "python",
      "pygments_lexer": "ipython3",
      "version": "3.7.3"
    },
    "kernelspec": {
      "display_name": "Python 3",
      "language": "python",
      "name": "python3"
    }
  },
  "cells": [
    {
      "cell_type": "markdown",
      "metadata": {
        "id": "view-in-github",
        "colab_type": "text"
      },
      "source": [
        "<a href=\"https://colab.research.google.com/github/cck197/ubiome/blob/master/uBiome%20Analysis.ipynb\" target=\"_parent\"><img src=\"https://colab.research.google.com/assets/colab-badge.svg\" alt=\"Open In Colab\"/></a>"
      ]
    },
    {
      "cell_type": "code",
      "metadata": {
        "id": "0yoNiPMktcAm",
        "colab_type": "code",
        "outputId": "dc4615e4-6dcb-4918-e91a-41dee8781c02",
        "colab": {
          "base_uri": "https://localhost:8080/",
          "height": 119
        }
      },
      "source": [
        "!git clone https://github.com/cck197/ubiome"
      ],
      "execution_count": 73,
      "outputs": [
        {
          "output_type": "stream",
          "text": [
            "Cloning into 'ubiome'...\n",
            "remote: Enumerating objects: 13, done.\u001b[K\n",
            "remote: Counting objects:   7% (1/13)   \u001b[K\rremote: Counting objects:  15% (2/13)   \u001b[K\rremote: Counting objects:  23% (3/13)   \u001b[K\rremote: Counting objects:  30% (4/13)   \u001b[K\rremote: Counting objects:  38% (5/13)   \u001b[K\rremote: Counting objects:  46% (6/13)   \u001b[K\rremote: Counting objects:  53% (7/13)   \u001b[K\rremote: Counting objects:  61% (8/13)   \u001b[K\rremote: Counting objects:  69% (9/13)   \u001b[K\rremote: Counting objects:  76% (10/13)   \u001b[K\rremote: Counting objects:  84% (11/13)   \u001b[K\rremote: Counting objects:  92% (12/13)   \u001b[K\rremote: Counting objects: 100% (13/13)   \u001b[K\rremote: Counting objects: 100% (13/13), done.\u001b[K\n",
            "remote: Compressing objects:   8% (1/12)   \u001b[K\rremote: Compressing objects:  16% (2/12)   \u001b[K\rremote: Compressing objects:  25% (3/12)   \u001b[K\rremote: Compressing objects:  33% (4/12)   \u001b[K\rremote: Compressing objects:  41% (5/12)   \u001b[K\rremote: Compressing objects:  50% (6/12)   \u001b[K\rremote: Compressing objects:  58% (7/12)   \u001b[K\rremote: Compressing objects:  66% (8/12)   \u001b[K\rremote: Compressing objects:  75% (9/12)   \u001b[K\rremote: Compressing objects:  83% (10/12)   \u001b[K\rremote: Compressing objects:  91% (11/12)   \u001b[K\rremote: Compressing objects: 100% (12/12)   \u001b[K\rremote: Compressing objects: 100% (12/12), done.\u001b[K\n",
            "remote: Total 13 (delta 3), reused 3 (delta 0), pack-reused 0\u001b[K\n",
            "Unpacking objects:   7% (1/13)   \rUnpacking objects:  15% (2/13)   \rUnpacking objects:  23% (3/13)   \rUnpacking objects:  30% (4/13)   \rUnpacking objects:  38% (5/13)   \rUnpacking objects:  46% (6/13)   \rUnpacking objects:  53% (7/13)   \rUnpacking objects:  61% (8/13)   \rUnpacking objects:  69% (9/13)   \rUnpacking objects:  76% (10/13)   \rUnpacking objects:  84% (11/13)   \rUnpacking objects:  92% (12/13)   \rUnpacking objects: 100% (13/13)   \rUnpacking objects: 100% (13/13), done.\n"
          ],
          "name": "stdout"
        }
      ]
    },
    {
      "cell_type": "code",
      "metadata": {
        "id": "6ryFBKRxwXsQ",
        "colab_type": "code",
        "outputId": "1c590adb-4b81-49a5-c577-d67fc8d37429",
        "colab": {
          "base_uri": "https://localhost:8080/",
          "height": 34
        }
      },
      "source": [
        "%cd ubiome"
      ],
      "execution_count": 74,
      "outputs": [
        {
          "output_type": "stream",
          "text": [
            "/content/ubiome/ubiome\n"
          ],
          "name": "stdout"
        }
      ]
    },
    {
      "cell_type": "code",
      "metadata": {
        "id": "kjbsBExXtuGZ",
        "colab_type": "code",
        "colab": {
          "base_uri": "https://localhost:8080/",
          "height": 700
        },
        "outputId": "44e085c5-24bf-4a64-d8d4-2215159d0d41"
      },
      "source": [
        "!pip install -r requirements.txt"
      ],
      "execution_count": 75,
      "outputs": [
        {
          "output_type": "stream",
          "text": [
            "Requirement already satisfied: backcall==0.1.0 in /usr/local/lib/python3.6/dist-packages (from -r requirements.txt (line 1)) (0.1.0)\n",
            "Requirement already satisfied: CacheControl==0.12.5 in /usr/local/lib/python3.6/dist-packages (from -r requirements.txt (line 2)) (0.12.5)\n",
            "Requirement already satisfied: certifi==2019.6.16 in /usr/local/lib/python3.6/dist-packages (from -r requirements.txt (line 3)) (2019.6.16)\n",
            "Requirement already satisfied: chardet==3.0.4 in /usr/local/lib/python3.6/dist-packages (from -r requirements.txt (line 4)) (3.0.4)\n",
            "Requirement already satisfied: cycler==0.10.0 in /usr/local/lib/python3.6/dist-packages (from -r requirements.txt (line 5)) (0.10.0)\n",
            "Requirement already satisfied: Cython==0.29.10 in /usr/local/lib/python3.6/dist-packages (from -r requirements.txt (line 6)) (0.29.10)\n",
            "Requirement already satisfied: decorator==4.4.0 in /usr/local/lib/python3.6/dist-packages (from -r requirements.txt (line 7)) (4.4.0)\n",
            "Requirement already satisfied: ete3==3.1.1 in /usr/local/lib/python3.6/dist-packages (from -r requirements.txt (line 8)) (3.1.1)\n",
            "Requirement already satisfied: hdmedians==0.13 in /usr/local/lib/python3.6/dist-packages (from -r requirements.txt (line 9)) (0.13)\n",
            "Requirement already satisfied: idna==2.8 in /usr/local/lib/python3.6/dist-packages (from -r requirements.txt (line 10)) (2.8)\n",
            "Requirement already satisfied: ipython==7.6.0 in /usr/local/lib/python3.6/dist-packages (from -r requirements.txt (line 11)) (7.6.0)\n",
            "Requirement already satisfied: ipython-genutils==0.2.0 in /usr/local/lib/python3.6/dist-packages (from -r requirements.txt (line 12)) (0.2.0)\n",
            "Requirement already satisfied: jedi==0.14.0 in /usr/local/lib/python3.6/dist-packages (from -r requirements.txt (line 13)) (0.14.0)\n",
            "Requirement already satisfied: joblib==0.13.2 in /usr/local/lib/python3.6/dist-packages (from -r requirements.txt (line 14)) (0.13.2)\n",
            "Requirement already satisfied: kiwisolver==1.1.0 in /usr/local/lib/python3.6/dist-packages (from -r requirements.txt (line 15)) (1.1.0)\n",
            "Requirement already satisfied: lockfile==0.12.2 in /usr/local/lib/python3.6/dist-packages (from -r requirements.txt (line 16)) (0.12.2)\n",
            "Requirement already satisfied: matplotlib==3.1.0 in /usr/local/lib/python3.6/dist-packages (from -r requirements.txt (line 17)) (3.1.0)\n",
            "Requirement already satisfied: msgpack==0.6.1 in /usr/local/lib/python3.6/dist-packages (from -r requirements.txt (line 18)) (0.6.1)\n",
            "Requirement already satisfied: natsort==6.0.0 in /usr/local/lib/python3.6/dist-packages (from -r requirements.txt (line 19)) (6.0.0)\n",
            "Requirement already satisfied: numpy==1.16.4 in /usr/local/lib/python3.6/dist-packages (from -r requirements.txt (line 20)) (1.16.4)\n",
            "Requirement already satisfied: pandas==0.24.2 in /usr/local/lib/python3.6/dist-packages (from -r requirements.txt (line 21)) (0.24.2)\n",
            "Requirement already satisfied: parso==0.5.0 in /usr/local/lib/python3.6/dist-packages (from -r requirements.txt (line 22)) (0.5.0)\n",
            "Requirement already satisfied: pexpect==4.7.0 in /usr/local/lib/python3.6/dist-packages (from -r requirements.txt (line 23)) (4.7.0)\n",
            "Requirement already satisfied: pickleshare==0.7.5 in /usr/local/lib/python3.6/dist-packages (from -r requirements.txt (line 24)) (0.7.5)\n",
            "Requirement already satisfied: prompt-toolkit==2.0.9 in /usr/local/lib/python3.6/dist-packages (from -r requirements.txt (line 25)) (2.0.9)\n",
            "Requirement already satisfied: ptyprocess==0.6.0 in /usr/local/lib/python3.6/dist-packages (from -r requirements.txt (line 26)) (0.6.0)\n",
            "Requirement already satisfied: Pygments==2.4.2 in /usr/local/lib/python3.6/dist-packages (from -r requirements.txt (line 27)) (2.4.2)\n",
            "Requirement already satisfied: pyparsing==2.4.0 in /usr/local/lib/python3.6/dist-packages (from -r requirements.txt (line 28)) (2.4.0)\n",
            "Requirement already satisfied: python-dateutil==2.8.0 in /usr/local/lib/python3.6/dist-packages (from -r requirements.txt (line 29)) (2.8.0)\n",
            "Requirement already satisfied: pytz==2019.1 in /usr/local/lib/python3.6/dist-packages (from -r requirements.txt (line 30)) (2019.1)\n",
            "Requirement already satisfied: requests==2.22.0 in /usr/local/lib/python3.6/dist-packages (from -r requirements.txt (line 31)) (2.22.0)\n",
            "Requirement already satisfied: scikit-bio==0.5.5 in /usr/local/lib/python3.6/dist-packages (from -r requirements.txt (line 32)) (0.5.5)\n",
            "Requirement already satisfied: scikit-learn==0.21.2 in /usr/local/lib/python3.6/dist-packages (from -r requirements.txt (line 33)) (0.21.2)\n",
            "Requirement already satisfied: scipy==1.3.0 in /usr/local/lib/python3.6/dist-packages (from -r requirements.txt (line 34)) (1.3.0)\n",
            "Requirement already satisfied: six==1.12.0 in /usr/local/lib/python3.6/dist-packages (from -r requirements.txt (line 35)) (1.12.0)\n",
            "Requirement already satisfied: traitlets==4.3.2 in /usr/local/lib/python3.6/dist-packages (from -r requirements.txt (line 36)) (4.3.2)\n",
            "Requirement already satisfied: urllib3==1.25.3 in /usr/local/lib/python3.6/dist-packages (from -r requirements.txt (line 37)) (1.25.3)\n",
            "Requirement already satisfied: wcwidth==0.1.7 in /usr/local/lib/python3.6/dist-packages (from -r requirements.txt (line 38)) (0.1.7)\n",
            "Requirement already satisfied: setuptools>=18.5 in /usr/local/lib/python3.6/dist-packages (from ipython==7.6.0->-r requirements.txt (line 11)) (41.0.1)\n"
          ],
          "name": "stdout"
        }
      ]
    },
    {
      "cell_type": "code",
      "metadata": {
        "id": "kRzupgHhtYCN",
        "colab_type": "code",
        "colab": {}
      },
      "source": [
        "version = 0.3"
      ],
      "execution_count": 0,
      "outputs": []
    },
    {
      "cell_type": "code",
      "metadata": {
        "id": "GwfQBDRqJYTK",
        "colab_type": "code",
        "colab": {}
      },
      "source": [
        "from ubiome.ubiome import load_json, check_bacteria, get_bacteria_count"
      ],
      "execution_count": 0,
      "outputs": []
    },
    {
      "cell_type": "code",
      "metadata": {
        "id": "x0KE6YBttYCU",
        "colab_type": "code",
        "colab": {}
      },
      "source": [
        "from pathlib import Path"
      ],
      "execution_count": 0,
      "outputs": []
    },
    {
      "cell_type": "code",
      "metadata": {
        "id": "oG3nHFNLuxrE",
        "colab_type": "code",
        "colab": {
          "base_uri": "https://localhost:8080/",
          "height": 54
        },
        "outputId": "fabbb866-9ac7-4df4-d1d4-ec9d624014ac"
      },
      "source": [
        "from google.colab import drive\n",
        "drive.mount('/content/gdrive')"
      ],
      "execution_count": 79,
      "outputs": [
        {
          "output_type": "stream",
          "text": [
            "Drive already mounted at /content/gdrive; to attempt to forcibly remount, call drive.mount(\"/content/gdrive\", force_remount=True).\n"
          ],
          "name": "stdout"
        }
      ]
    },
    {
      "cell_type": "code",
      "metadata": {
        "id": "0EYlqHiXvmKZ",
        "colab_type": "code",
        "colab": {}
      },
      "source": [
        "basedir = Path('/content/gdrive/My Drive/NBT/uBiome Analysis Reports/uBiome Reports - Batch 18 - COMPLETE')"
      ],
      "execution_count": 0,
      "outputs": []
    },
    {
      "cell_type": "code",
      "metadata": {
        "id": "wPhWYJubtYCW",
        "colab_type": "code",
        "outputId": "0ff4f090-6966-4de9-fbbc-071e70994e71",
        "colab": {
          "base_uri": "https://localhost:8080/",
          "height": 34
        }
      },
      "source": [
        "fname = basedir / 'PaulMcKim.ubiome.june.24.2019.json'\n",
        "root = load_json(open(fname))"
      ],
      "execution_count": 82,
      "outputs": [
        {
          "output_type": "stream",
          "text": [
            "loaded 243 into tree depth 108 diversity 18.49\n"
          ],
          "name": "stdout"
        }
      ]
    },
    {
      "cell_type": "markdown",
      "metadata": {
        "id": "Azrh5_nLtYCb",
        "colab_type": "text"
      },
      "source": [
        "### General\n",
        "* Ideal Diversity - >90%ile (you'll find this on the uBiome site)"
      ]
    },
    {
      "cell_type": "markdown",
      "metadata": {
        "id": "YZTmvfhUtYCc",
        "colab_type": "text"
      },
      "source": [
        "### Lipopolysaccharide\n",
        "\n",
        "As bacteria die, lipopolysaccharide (LPS) is shed into the lumen. LPS represents ~80% of the cell wall mass of gram negative bacteria. Higher amounts in the lumen in individuals with higher concentrations of **Proteobacteria** and **Bacteroidetes** in the small and large bowel. Concentrations of these bacteria are very much determined by diet, as well as medication use.\n",
        "\n",
        "In healthy adults with good intestinal integrity, a balanced GIT ecosystem and consuming fibre-rich diets, only miniscule amounts of LPS can be found in blood plasma. Agents that adversely impact intestinal permeability or\n",
        "cause dysbiosis will increase blood LPS concentrations:\n",
        "\n",
        "- NSAIDs (Tugendreich, Pearson, Sagartz, Jarnagin, & Kolaja, 2006)\n",
        "- Alcohol binge drinking (Bala, Marcos, Gattu, Catalano, & Szabo, 2014)\n",
        "\n",
        "Western-style diets low in fibres, prebiotic-rich foods, and resistant starches; whilst being rich in fats significantly increase LPS absorption (Laugerette et al., 2011) (Ghanim et al., 2009) (Pendyala, Walker, &\n",
        "Holt, 2012).\n",
        "\n",
        "- Diminish intestinal integrity (Cani and Delzenne 2009)\n",
        "- Diet-induced dysbiosis (Cani et al., 2007) (Hildebrandt et al., 2009) (Martinez-Medina et al., 2013)\n",
        "\n",
        "Interaction of LPS with TLR-4 induces release of a number of pro-inflammatory cytokines TNF-α, NFκB, IL-6, IL-8 leading to low-grade systemic inflammation (Michalski, Vors, Lecomte, & Laugerette, 2016).\n",
        "\n",
        "Experimental models (Bested, Logan, & Selhub, 2013) (Guo, Al-Sadi, Said, & Ma, 2013) (O'Connor et al., 2009) show LPS exposure:\n",
        "\n",
        "- Induce systemic inflammation and low-grade systemic inflammation common in depression \n",
        "- Compromise the integrity of the intestinal barrier\n",
        "- Alter the tryptophan-kynurenine pathway\n",
        "- Induce brain inflammation via CNS cytokine production\n",
        "- Compromise the blood-brain barrier\n",
        "- Induce depressive-like behaviour\n",
        "\n",
        "#### Conditions Now Associated with Endotoxemia:\n",
        "- Alcoholic liver disease (Malaguarnera, Giordano, Nunnari, Bertino, & Malaguarnera, 2014)\n",
        "- Alzheimer’s disease (Lukiw, 2016)\n",
        "- Atherosclerosis (Wang et al., 2012)\n",
        "- Congestive cardiac failure (Charalambous, Stephens, Feavers, & Montgomery, 2007)\n",
        "- CFS (Giloteaux et al., 2016)\n",
        "- Metabolic syndrome (Jialal & Rajamani, 2014)\n",
        "- NAFLD (Alisi, Ceccarelli, Panera, & Nobili, 2012)\n",
        "- Obesity (Cani et al., 2007)\n",
        "- Type 2 DM (Pussinen, Havulinna, Lehto, Sundvall, & Salomaa, 2011)\n",
        "\n",
        "Nobody knows if there is an ideal level, or ratio, of the major phyla, however, given the role of LPS in many Western diseases, Hawrelak is concerned about high levels of these phyla:\n",
        "\n",
        "- Proteobacteria - < 4% (the lower the better!)\n",
        "- Bacteroidetes - < 35%\n",
        "\n",
        "Also, bacteria in bacteroidetes phyla are themain producers of β-glucuronidase (Skar, Skar, & Stromme, 1988)"
      ]
    },
    {
      "cell_type": "code",
      "metadata": {
        "scrolled": true,
        "id": "myG2xaUqtYCd",
        "colab_type": "code",
        "outputId": "5cf4c43e-8077-490c-bbbf-e8977826f472",
        "colab": {
          "base_uri": "https://localhost:8080/",
          "height": 51
        }
      },
      "source": [
        "check_bacteria(root, 'Proteobacteria', upper=4)\n",
        "check_bacteria(root, 'Bacteroidetes', upper=35)"
      ],
      "execution_count": 83,
      "outputs": [
        {
          "output_type": "stream",
          "text": [
            "Checking for Proteobacteria.......................... 5.19 [HIGH]\n",
            "Checking for Bacteroidetes...........................22.66 [OK]\n"
          ],
          "name": "stdout"
        }
      ]
    },
    {
      "cell_type": "markdown",
      "metadata": {
        "id": "BxB0LX07tYCg",
        "colab_type": "text"
      },
      "source": [
        "### To decrease Proteobacteria & Bacteroidetes populations\n",
        "- Prebiotics\n",
        " - Lactulose (Ballongue, Schumann, & Quignon, 1997)\n",
        " - Galactooligosaccharides (GOS) (Vulevic, Drakoularakou, Yaqoob, Tzortzis, & Gibson, 2008)\n",
        " - Fructooligosaccharides (FOS) (Gibson et al., 1995)\n",
        "- High-fibre, whole foods diet (Wu et al., 2011)\n",
        "- Many members of these two bacterial groups tend to prefer growing near neutral pH\n",
        " - Dietary approaches and supplements that acidify the colon reduce populations of Proteobacteria and common Bacteroidetes members\n",
        "- Decrease fat intake as many Bacteroidetes & some Proteobacteria members are bile acid consumers"
      ]
    },
    {
      "cell_type": "markdown",
      "metadata": {
        "id": "cx0UdnjztYCg",
        "colab_type": "text"
      },
      "source": [
        "### The Good\n",
        "* Bifidobacterium spp.\n",
        "  * Comprises 0-5% of the microbiota (Sghir et al., 2000)\n",
        "  * Ideal populations >2.5-5.0%\n",
        "  * Health benefits: (Romond, Haddou, Mielcareck, & Romond, 1997) (Ballongue, 1998) [(Hsieh et al., 2015)](https://www.ncbi.nlm.nih.gov/pubmed/25780093) (Marin, Miguelez, Villar, & Lombo, 2015)\n",
        "  * Role in Intestinal Permeability and Mood Disorders (Brahe et al., 2015) (Cani et al., 2007) (Cani et al., 2009) (Yoo & Kim, 2016) (Barrett, Ross, O'Toole, Fitzgerald, & Stanton, 2012) (Aizawa et al., 2016)\n",
        "  * Lactulose, FOS, GOS, PHGG\n",
        "  * Acacia fibre\n",
        "  * Predominantly plant-based, whole-food diet rich in fibre\n",
        "  * Polyphenol-rich foods (Perez-Jimenez et al, 2010) (Min et al, 2011) (Leja et al, 2013) (Ramdath et al, 2014)\n",
        "  * Prebiotic-rich foods (Hawrelak, 2013) (Biesiekierski et al, 2011) (Muir et al, 2009) (Kuo et al, 1988)\n",
        "  * Prebiotic-like foods (Benno et al, 1989) (Tamura, 1983) (Molan et al, 2014) (Tzounis et al, 2011) (Liu et al, 2014) (Goto et al, 1998)\n",
        "  * Resistant starch-rich foods\n",
        "* Lactobacillus spp.\n",
        "  * Typically ~0.01%\n",
        "  * Ideal populations 0.01-1.0%\n",
        "  * Lactulose (Ballongue, Schumann, & Quignon, 1997)\n",
        "  * Partially-hydrolysed guar gum (Takahashi et al., 1994)\n",
        "  * Konjac glucomannan (Chen, Cheng, Wu, Liu, & Liu, 2008)\n",
        "* Akkermansia muciniphila\n",
        "  * comprises 1-3% of a healthy GIT ecosystem (Derrien, Collado, Ben-Amor, Salminen, & de Vos, 2008)\n",
        "  * Ideal population >1.0-3.0%\n",
        "  * High saturated fat diets decrease levels, whilst those rich in n-3 fats increase Akkermansia levels (Caesar, Tremaroli, Kovatcheva-Datchary, Cani, & Bäckhed, 2015)\n",
        "  * FOS or Inulin supplementation (Van den Abbeele et al., 2011)\n",
        "  * Lactulose (Mao et al, 2016)\n",
        "* Faecalibacterium prausnitzii\n",
        "  * Ideal population >10-15%\n",
        "  * The most abundant bacterium in the GIT of healthy adults! (Miquel et al., 2013)\n",
        "  * comprises 5-15% of the total bacterial population in the GIT\n",
        "  * the major butyrate-producer \n",
        "  * FOS/inulin (Ramirez-Farias et al., 2009)\n",
        "  * Lactulose (Bajaj et al., 2012)\n",
        "  * Galactooligosaccharides (Davis, Martinez, Walter, Goin, & Hutkins, 2011)\n",
        "  * Dietary polyphenols, such as grape polyphenols (Moreno-Indias et al, 2016)\n",
        "  * Bacillus coagulans GBI-30 6086 supplementation (Nyangale et al., 2015)\n",
        "  * Bifidobacterium longum BB536 supplementation (Odamaki et al., 2007)\n",
        "* Butyrate Producers\n",
        "    * Roseburia spp.\n",
        "      * \\>5-10%\n",
        "    * Blautia spp.\n",
        "      * \\>5-10%\n",
        "    * Eubacterium spp.\n",
        "      * Up to 15%\n",
        "    * Ruminococcus spp.\n",
        "      * Up to 15%\n",
        "    * ideal total %age of butyrate producers - >40%\n",
        "      * Add up: Pseudobutyrivibrio + Butyrivibrio + Coprococcus + Anaerostipes + Anaerotruncus + Subdoligranulum + Intestibacter + Eubacterium + Faecalibacterium + Blautia + Roseburia + Ruminococcus\n",
        "    * Western diet starves our microbial self! (Sonnenburg & Sonnenburg, 2014)\n",
        "    * High fat diets decrease butyrate production (Brinkworth, Noakes, Clifton, & Bird, 2009)\n",
        "    * High protein-low carb diets decrease butyrate concentrations\n",
        "and decrease populations of butyrate-producing bacteria (Duncan et al., 2007) (Russell et al., 2011)\n",
        "    * Psyllium husks(Campbell & Fahey, 1997) and ground seeds (Fernandez- Banares et al., 1999)\n",
        "    * Partially-hydrolysed Guar Gum (Noack, Timm, Hospattankar, & Slavin, 2013)\n",
        "    * Inulin-FOS (Jung, Jeon, & Han, 2015)\n",
        "    * Resistant starch (Kelly et al., 2015)"
      ]
    },
    {
      "cell_type": "code",
      "metadata": {
        "id": "ikR8jdGYtYCh",
        "colab_type": "code",
        "outputId": "0a139487-8de7-4c7a-b9c8-c052db2df8ba",
        "colab": {
          "base_uri": "https://localhost:8080/",
          "height": 153
        }
      },
      "source": [
        "check_bacteria(root, 'Bifidobacterium', lower=2.5, upper=5)\n",
        "check_bacteria(root, 'Lactobacillaceae', lower=0.01, upper=1)\n",
        "check_bacteria(root, 'Akkermansia', lower=1, upper=3) # muciniphila\n",
        "check_bacteria(root, 'Faecalibacterium prausnitzii', lower=10, upper=15)\n",
        "check_bacteria(root, 'Roseburia', lower=5, upper=10)\n",
        "check_bacteria(root, 'Blautia', lower=5, upper=10)\n",
        "check_bacteria(root, 'Eubacterium', lower=5, upper=10)\n",
        "check_bacteria(root, 'Ruminococcus', upper=15)"
      ],
      "execution_count": 84,
      "outputs": [
        {
          "output_type": "stream",
          "text": [
            "Checking for Bifidobacterium......................... 0.19 [LOW]\n",
            "Checking for Lactobacillaceae........................ 0.09 [OK]\n",
            "Checking for Akkermansia............................. 3.10 [HIGH]\n",
            "Checking for Faecalibacterium prausnitzii............ 5.80 [LOW]\n",
            "Checking for Roseburia............................... 5.00 [LOW]\n",
            "Checking for Blautia................................. 6.38 [OK]\n",
            "Checking for Eubacterium.............................[NOT FOUND]\n",
            "Checking for Ruminococcus............................[NOT FOUND]\n"
          ],
          "name": "stdout"
        }
      ]
    },
    {
      "cell_type": "code",
      "metadata": {
        "id": "5mAxzoMKtYCl",
        "colab_type": "code",
        "outputId": "4de674b2-a559-4c8a-98a9-1dfeb7310a5b",
        "colab": {
          "base_uri": "https://localhost:8080/",
          "height": 238
        }
      },
      "source": [
        "bp = (\n",
        "    'Pseudobutyrivibrio',\n",
        "    'Butyrivibrio',\n",
        "    'Coprococcus',\n",
        "    'Anaerostipes',\n",
        "    'Anaerotruncus',\n",
        "    'Subdoligranulum',\n",
        "    'Intestibacter',\n",
        "    'Eubacterium',\n",
        "    'Faecalibacterium',\n",
        "    'Blautia',\n",
        "    'Roseburia',\n",
        "    'Ruminococcus',)\n",
        "total = 0\n",
        "for name in bp:\n",
        "    count = get_bacteria_count(root, name)\n",
        "    print('Checking butyrate producer {:.<26} {:.2f}'.format(name, count))\n",
        "    total += count\n",
        "msg = '[OK]' if total >= 40 else '[LOW]'\n",
        "print('Total butyrate producers {:.2f} {:.>28}'.format(total, msg))"
      ],
      "execution_count": 85,
      "outputs": [
        {
          "output_type": "stream",
          "text": [
            "Checking butyrate producer Pseudobutyrivibrio........ 4.67\n",
            "Checking butyrate producer Butyrivibrio.............. 0.10\n",
            "Checking butyrate producer Coprococcus............... 0.00\n",
            "Checking butyrate producer Anaerostipes.............. 1.18\n",
            "Checking butyrate producer Anaerotruncus............. 3.22\n",
            "Checking butyrate producer Subdoligranulum........... 2.07\n",
            "Checking butyrate producer Intestibacter............. 0.00\n",
            "Checking butyrate producer Eubacterium............... 0.00\n",
            "Checking butyrate producer Faecalibacterium.......... 12.10\n",
            "Checking butyrate producer Blautia................... 6.38\n",
            "Checking butyrate producer Roseburia................. 5.00\n",
            "Checking butyrate producer Ruminococcus.............. 0.00\n",
            "Total butyrate producers 34.72 .......................[LOW]\n"
          ],
          "name": "stdout"
        }
      ]
    },
    {
      "cell_type": "markdown",
      "metadata": {
        "id": "o_CNai_qtYCo",
        "colab_type": "text"
      },
      "source": [
        "### The Bad\n",
        "* Escherichia coli\n",
        "    * Comprises <0.1% of the colonic microbiota (Lay et al., 2005)(Hiergeist, Glasner, Reischl, & Gessner, 2015)\n",
        "    * Poor acid-tolerance (Duncan, Louis, Thomson, & Flint, 2009)\n",
        "    * Can produce vitamins in the GIT\n",
        "      * K2 (Bentley & Meganathan, 1982)\n",
        "      * B vitamins (LeBlanc et al., 2013)\n",
        "      * Lactulose supplementation (Ballongue, Schumann, & Quignon, 1997)\n",
        "      * GOS supplementation (Vulevic, Drakoularakou, Yaqoob, Tzortzis, & Gibson, 2008)\n",
        "      * High-fibre, whole-foods diet (O'Brien & Gordon, 2011)\n",
        "* Bacteroides spp.\n",
        "  * Ideal population <20%\n",
        "  * Recent research suggests Bacteroides spp. comprise 5%-18% of the microbiota (Guarner, 2015)\n",
        "  * dominant genus in those consuming a high-fat, high-protein, low-fibre diet (Wu et al., 2011)\n",
        "  * Often very dominant post-antibiotic cocktails\n",
        "  * Protein putrefier (Vince & Burridge, 1980) (Macfarlane & Macfarlane, 1995)\n",
        "  * One of the main producers of β-glucuronidase (Skar, Skar, & Stromme, 1988)\n",
        "  * Produces secondary bile acids (Fukiya et al., 2009)\n",
        "  * Microbial byproducts from Bacteroides spp. may play a role in the pathogenesis of AD via: (Lukiw, 2016)\n",
        "  * Lactulose (Ballongue, Schumann, & Quignon, 1997)\n",
        "  * GOS (Vulevic, Drakoularakou, Yaqoob, Tzortzis, & Gibson, 2008)\n",
        "  * FOS (Gibson et al., 1995)\n",
        "  * Whole-foods, high-fibre diet (Wu et al., 2011)\n",
        "  * Green tea (Goto et al., 1998)\n",
        "  "
      ]
    },
    {
      "cell_type": "markdown",
      "metadata": {
        "id": "kgoa6Hc7tYCp",
        "colab_type": "text"
      },
      "source": [
        "### The Ugly\n",
        "* H2S-producers\n",
        "    * Desulfovibrio spp.\n",
        "    * Bilophyla wadsworthia\n",
        "\n",
        "    * Ideal populations of both genera <0.01%\n",
        "    * Aim to get these as close to zero as possible\n",
        "    * If both genera are under 0.25%, then this is probably OK\n",
        "    * Growth and production of H2S can be minimised by\n",
        "      * GOS supplementation (Vulevic, Drakoularakou, Yaqoob, & et al., 2008)\n",
        "      * Zinc supplementation (Suarez, Furne, Springfield, & Levitt, 1998)\n",
        "      * Decreasing meat/protein intake (Magee, Richardson, Hughes, & Cummings, 2000)\n",
        "      * Decreasing fat intake (especially milk and animal fat) (Wolf, Cummings, Shah, Gaskins, & Mutlu, 2015) (Devkota et al., 2012)\n",
        "      * Decreasing intake/elimination of sulphur-based preservatives in foodstuffs\n",
        "      * Beware both cholagogue herbs and bile acid supplements!\n",
        "* Methane Over-Production\n",
        "  * Methanobrevibacter smithii dominant archaeon in the GIT\n",
        "  * high counts seen in some constipated patients and some C-IBS patients (Kim et al., 2012) (Attaluri, Jackson, Valestin, & Rao, 2010)\n",
        "  * Oxalobacteraceae\n",
        "  * VSL#3\n",
        "  * Partially-hydrolysed guar gum (Furnari et al., 2012)\n",
        "  * GOS supplementation (Mwenya et al., 2004) (Mwenya et al., 2004b)\n",
        "  * Lactobacillus reuteri DSM 17938 (Ojetti et al., 2017)\n",
        "  * Allicin (Bhatta, Baruah, Saravanan, Suresh, & Sampath, 2013)\n",
        "  * Garlic oil (Patra & Yu, 2012)\n",
        "  * Guava leaf (Kamra, Agarwal, & Chaudhary, 2006)\n",
        "  * Propolis (Morsy et al., 2015)\n",
        "  * Essential oils\n",
        "  * oregano > clove > peppermint (Patra & Yu, 2012)\n",
        "  * thyme; fennel; dill; cinnamon (Bhatta, Baruah, Saravanan, Suresh, & Sampath, 2013)\n",
        "  * grape seed/skin e.g., Lloyds ProantioX powder (Moate et al., 2014) \n",
        "  * pine bark (Min, Solaiman, Shange, & Eun, 2014)\n",
        "  * Methanogenic archaea populations are inversely related to butyrate concentrations (Abell, Conlon, & Mcorist, 2011)\n",
        "  * Optimal growth at pH 7 (Abell, Conlon, & Mcorist, 2011)\n",
        "    * Faecal pH of 7-7.5 associated with higher methanogen concentrations\n",
        "    * Stool pH of <6.5 appears to inhibit growth lower pH favours acetogen growth"
      ]
    },
    {
      "cell_type": "code",
      "metadata": {
        "id": "XZuJUJd9tYCq",
        "colab_type": "code",
        "outputId": "da7aef3a-9e9e-4485-8846-1b75ee7f48d3",
        "colab": {
          "base_uri": "https://localhost:8080/",
          "height": 51
        }
      },
      "source": [
        "check_bacteria(root, 'Desulfovibrio', upper=0.01)\n",
        "check_bacteria(root, 'Bilophila wadsworthia', upper=0.01)"
      ],
      "execution_count": 86,
      "outputs": [
        {
          "output_type": "stream",
          "text": [
            "Checking for Desulfovibrio........................... 0.01 [HIGH]\n",
            "Checking for Bilophila wadsworthia...................[NOT FOUND]\n"
          ],
          "name": "stdout"
        }
      ]
    },
    {
      "cell_type": "code",
      "metadata": {
        "id": "60biLDKUtYCv",
        "colab_type": "code",
        "outputId": "5cb1c753-e10a-463d-8869-55de92855a15",
        "colab": {
          "base_uri": "https://localhost:8080/",
          "height": 34
        }
      },
      "source": [
        "get_bacteria_count(root, 'Methanobrevibacter')"
      ],
      "execution_count": 87,
      "outputs": [
        {
          "output_type": "execute_result",
          "data": {
            "text/plain": [
              "0"
            ]
          },
          "metadata": {
            "tags": []
          },
          "execution_count": 87
        }
      ]
    },
    {
      "cell_type": "markdown",
      "metadata": {
        "id": "-ze9jROotYCz",
        "colab_type": "text"
      },
      "source": [
        "### Dietary choices"
      ]
    },
    {
      "cell_type": "markdown",
      "metadata": {
        "id": "IDnpGSRAtYC0",
        "colab_type": "text"
      },
      "source": [
        "- Consume prebiotic-Rich Foods (Hawrelak, 2013) (Biesiekierski et al, 2011) (Muir et al, 2009) (Kuo et al, 1988)\n",
        " - FOS Jerusalem artichokes, yacon tubers, burdock roots, chicory roots, dandelion roots, garlic, onions, leeks, asparagus, globe artichokes\n",
        " - GOS Legumes, Brassica-family vegetables, fresh beans, beetroot, rye sourdough (if gluten tolerated), sunflower  seeds, pumpkin seeds (pepitas), linseeds, sunflower seeds and almonds (LSA) mix\n",
        "- Prebiotic-like foods\n",
        " - Brown rice (Benno et al, 1989)\n",
        " - Carrots (Tamura, 1983)\n",
        " - Black currants (Molan et al, 2014)\n",
        " - Dark cocoa (Tzounis et al, 2011)\n",
        " - Almonds (Liu et al, 2014)\n",
        " - Green tea (Goto et al, 1998)\n",
        "- Polyphenol-Rich foods\n",
        " - Vegetables Purple carrots, red carrots, purple/red potatoes, red cabbage, spinach, red onions, broccoli, carrots (orange), red lettuce\n",
        " - Grains Red rice, black rice, red and black quinoa, whole grain rye bread (sourdough)\n",
        " - Black olives & olive oil"
      ]
    },
    {
      "cell_type": "code",
      "metadata": {
        "id": "7Hy_v1JUtYC0",
        "colab_type": "code",
        "colab": {}
      },
      "source": [
        "p = root.search_nodes(name='Proteobacteria')"
      ],
      "execution_count": 0,
      "outputs": []
    },
    {
      "cell_type": "code",
      "metadata": {
        "id": "2AFgNFb2tYC2",
        "colab_type": "code",
        "outputId": "7b1bec15-506b-4993-b333-428f52d7509b",
        "colab": {
          "base_uri": "https://localhost:8080/",
          "height": 323
        }
      },
      "source": [
        "print(p[0])"
      ],
      "execution_count": 89,
      "outputs": [
        {
          "output_type": "stream",
          "text": [
            "\n",
            "            /- /-Citrobacter sp. HD4.9\n",
            "           |\n",
            "         /-|-- /-Klebsiella sp. B12\n",
            "        |  |\n",
            "   /- /-|   \\- /-Kluyvera georgiana\n",
            "  |     |\n",
            "  |      \\- /-Pantoea\n",
            "  |\n",
            "--|-- /- /- /-Thalassospira\n",
            "  |\n",
            "  |-- /- /- /-Parasutterella\n",
            "  |\n",
            "  |   /- /- /- /-Desulfovibrio\n",
            "   \\-|\n",
            "     |            /-Campylobacter rectus\n",
            "      \\- /- /- /-|\n",
            "                  \\-Campylobacter sp. FOBRC14\n"
          ],
          "name": "stdout"
        }
      ]
    },
    {
      "cell_type": "code",
      "metadata": {
        "scrolled": false,
        "id": "F0cBl0kYtYC5",
        "colab_type": "code",
        "outputId": "9d62968c-778b-4023-9692-08af10de23fb",
        "colab": {
          "base_uri": "https://localhost:8080/",
          "height": 1000
        }
      },
      "source": [
        "print(root)"
      ],
      "execution_count": 90,
      "outputs": [
        {
          "output_type": "stream",
          "text": [
            "\n",
            "                     /- /-Citrobacter sp. HD4.9\n",
            "                    |\n",
            "                  /-|-- /-Klebsiella sp. B12\n",
            "                 |  |\n",
            "            /- /-|   \\- /-Kluyvera georgiana\n",
            "           |     |\n",
            "           |      \\- /-Pantoea\n",
            "           |\n",
            "         /-|-- /- /- /-Thalassospira\n",
            "        |  |\n",
            "        |  |-- /- /- /-Parasutterella\n",
            "        |  |\n",
            "        |  |   /- /- /- /-Desulfovibrio\n",
            "        |   \\-|\n",
            "        |     |            /-Campylobacter rectus\n",
            "        |      \\- /- /- /-|\n",
            "        |                  \\-Campylobacter sp. FOBRC14\n",
            "        |\n",
            "        |-- /- /-Candidatus Saccharibacteria\n",
            "        |\n",
            "        |-- /- /- /- /- /-Fusobacterium sp. ACB2\n",
            "        |\n",
            "        |-- /- /- /-Acidobacteriaceae\n",
            "        |\n",
            "        |-- /- /- /- /- /- /-Akkermansia muciniphila\n",
            "        |\n",
            "        |   /- /- /- /- /-Fibrobacter\n",
            "        |  |\n",
            "        |  |      /- /- /- /-Flavobacterium\n",
            "        |  |     |\n",
            "        |  |     |            /-Bacteroides fragilis\n",
            "        |  |     |           |\n",
            "        |  |     |           |--Bacteroides thetaiotaomicron\n",
            "        |--|     |           |\n",
            "        |  |     |           |--Bacteroides uniformis\n",
            "        |  |     |           |\n",
            "        |  |     |           |--Bacteroides stercoris\n",
            "        |  |     |           |\n",
            "        |  |     |           |--Bacteroides caccae\n",
            "        |  |     |           |\n",
            "        |  |     |           |--Bacteroides sp. AR20\n",
            "        |   \\- /-|           |\n",
            "        |        |      /- /-|--Bacteroides sp. 35AE37\n",
            "        |        |     |     |\n",
            "        |        |     |     |--Bacteroides intestinalis\n",
            "        |        |     |     |\n",
            "        |        |     |     |--Bacteroides sp. XB12B\n",
            "        |        |     |     |\n",
            "        |        |     |     |--Bacteroides sp. D20\n",
            "        |        |     |     |\n",
            "        |        |     |     |--Bacteroides sp. WA1\n",
            "        |        |     |     |\n",
            "        |        |     |     |--Bacteroides sp. 14(A)\n",
            "        |        |     |     |\n",
            "        |         \\- /-|      \\-Bacteroides sp. 2011_Ileo_VSA_D7\n",
            "        |              |\n",
            "        |              |      /-Alistipes putredinis\n",
            "        |              |     |\n",
            "        |              |-- /-|--Alistipes finegoldii\n",
            "        |              |     |\n",
            "        |              |      \\-Alistipes shahii\n",
            "        |              |\n",
            "        |              |-- /- /-Odoribacter splanchnicus\n",
            "        |              |\n",
            "        |              |-- /-Barnesiella\n",
            "        |              |\n",
            "        |               \\- /- /-Parabacteroides distasonis\n",
            "        |\n",
            "        |                  /-Streptococcus sp. S16-11\n",
            "        |               /-|\n",
            "        |            /-|   \\-Streptococcus sp. 2011_Oral_MS_A3\n",
            "        |           |  |\n",
            "        |           |   \\- /-Lactococcus lactis\n",
            "        |           |\n",
            "        |      /- /-|--Lactobacillaceae\n",
            "        |     |     |\n",
            "        |     |     |-- /- /-Enterococcus pallens\n",
            "        |     |     |\n",
            "        |     |      \\- /- /-Granulicatella adiacens\n",
            "        |     |\n",
            "        |     |         /-Sarcina\n",
            "        |     |        |\n",
            "        |     |      /-|--Clostridium\n",
            "        |     |     |  |\n",
            "        |     |     |   \\- /-Lactonifactor longoviformis\n",
            "        |     |     |\n",
            "        |     |     |   /-Butyrivibrio\n",
            "        |     |     |  |\n",
            "        |     |     |  |   /-Roseburia intestinalis\n",
            "        |     |     |  |  |\n",
            "-- /- /-|     |     |  |--|--Roseburia faecis\n",
            "        |     |     |  |  |\n",
            "        |     |     |  |   \\-Roseburia inulinivorans\n",
            "        |     |     |  |\n",
            "        |     |     |  |--Lachnospira\n",
            "        |     |     |  |\n",
            "        |     |     |  |--Acetitomaculum\n",
            "        |     |     |  |\n",
            "        |     |     |  |--Pseudobutyrivibrio\n",
            "        |     |     |  |\n",
            "        |     |     |  |--Shuttleworthia\n",
            "        |     |     |  |\n",
            "        |     |     |  |   /-Dorea formicigenerans\n",
            "        |     |     |  |--|\n",
            "        |     |     |  |   \\-Dorea longicatena\n",
            "        |     |     |  |\n",
            "        |     |     |  |   /-Anaerostipes caccae\n",
            "        |     |     |  |  |\n",
            "        |     |     |  |--|--Anaerostipes hadrus\n",
            "        |     |     |  |  |\n",
            "        |     |     |  |   \\-Anaerostipes sp. 5_1_63FAA\n",
            "        |     |     |--|\n",
            "        |     |     |  |-- /-Hespellia porcina\n",
            "        |     |     |  |\n",
            "        |     |     |  |--Marvinbryantia\n",
            "        |     |     |  |\n",
            "        |     |     |  |--Moryella\n",
            "        |     |     |  |\n",
            "        |     |     |  |   /-Blautia hansenii\n",
            "        |     |     |  |  |\n",
            "        |     |     |  |  |--Blautia luti\n",
            "        |     |     |  |  |\n",
            "        |     |     |  |  |--Blautia wexlerae\n",
            "        |     |     |  |--|\n",
            "        |     |     |  |  |--Blautia sp. Ser5\n",
            "        |     |     |  |  |\n",
            "        |     |     |  |  |--Blautia faecis\n",
            "        |     |     |  |  |\n",
            "        |     |     |  |   \\-Blautia sp. YHC-4\n",
            "        |     |     |  |\n",
            "        |     |     |  |-- /-Robinsoniella sp. KNHs210\n",
            "        |     |-- /-|  |\n",
            "        |     |     |  |-- /-Anaerosporobacter mobilis\n",
            "        |   /-|     |  |\n",
            "        |  |  |     |  |-- /-Fusicatenibacter saccharivorans\n",
            "        |  |  |     |  |\n",
            "        |  |  |     |   \\-Eisenbergiella\n",
            "        |  |  |     |\n",
            "        |  |  |     |   /-Peptoclostridium\n",
            "        |  |  |     |  |\n",
            "        |  |  |     |  |--Terrisporobacter\n",
            "        |  |  |     |--|\n",
            "        |  |  |     |  |--Intestinibacter\n",
            "        |  |  |     |  |\n",
            "        |  |  |     |   \\- /-Clostridioides difficile\n",
            "        |  |  |     |\n",
            "        |  |  |     |-- /-Peptococcus\n",
            "        |  |  |     |\n",
            "        |  |  |     |   /- /-Flavonifractor plautii\n",
            "        |  |  |     |  |\n",
            "        |  |  |     |--|-- /-Pseudoflavonifractor capillosus\n",
            "        |  |  |     |  |\n",
            "        |  |  |     |   \\-Intestinimonas\n",
            "        |  |  |     |\n",
            "        |  |  |     |-- /-Oscillibacter\n",
            "        |  |  |     |\n",
            "        |  |  |     |      /-Mogibacterium\n",
            "        |  |  |     |-- /-|\n",
            "        |  |  |     |      \\-Anaerovorax\n",
            "        |  |  |     |\n",
            "        |  |  |     |   /-Sporobacter\n",
            "        |  |  |     |  |\n",
            "        |  |  |     |  |--Anaerofilum\n",
            "        |  |  |     |  |\n",
            "        |  |  |     |  |--Papillibacter\n",
            "        |  |  |     |  |\n",
            "        |  |  |     |  |--Oscillospira\n",
            "        |  |  |     |  |\n",
            "        |  |  |     |--|   /-Faecalibacterium prausnitzii\n",
            "        |  |  |     |  |--|\n",
            "        |  |  |     |  |   \\-Faecalibacterium sp. canine oral taxon 147\n",
            "        |  |  |     |  |\n",
            "        |  |  |     |  |--Anaerotruncus\n",
            "         \\-|  |     |  |\n",
            "           |  |     |  |-- /-Subdoligranulum variabile\n",
            "           |  |     |  |\n",
            "           |  |     |   \\-Candidatus Soleaferrea\n",
            "           |  |     |\n",
            "           |  |     |--Caldicoprobacteraceae\n",
            "           |  |     |\n",
            "           |  |      \\- /- /-Christensenella minuta\n",
            "           |  |\n",
            "           |  |         /- /-Holdemania filiformis\n",
            "           |  |        |\n",
            "           |  |-- /- /-|--Catenibacterium\n",
            "           |  |        |\n",
            "           |  |         \\- /-Erysipelatoclostridium ramosum\n",
            "           |  |\n",
            "           |  |         /-Megasphaera\n",
            "           |  |        |\n",
            "           |  |        |   /-Veillonella parvula\n",
            "           |  |        |--|\n",
            "           |   \\- /- /-|   \\-Veillonella sp. 2011_Oral_VSA_D3\n",
            "           |           |\n",
            "           |           |-- /-Dialister sp. E2_20\n",
            "           |           |\n",
            "           |            \\- /-Allisonella histaminiformans\n",
            "           |\n",
            "           |      /- /- /- /-Actinomyces odontolyticus\n",
            "           |     |\n",
            "           |   /-|-- /- /- /-Bifidobacterium adolescentis\n",
            "           |  |  |\n",
            "           |  |   \\- /- /- /-Rothia mucilaginosa\n",
            "           |--|\n",
            "           |  |         /-Collinsella\n",
            "           |  |   /- /-|\n",
            "           |  |  |      \\- /-Parvibacter caecicola\n",
            "           |   \\-|\n",
            "           |     |      /- /-Eggerthella lenta\n",
            "           |     |     |\n",
            "           |      \\- /-|-- /-Adlercreutzia equolifaciens\n",
            "           |           |\n",
            "           |            \\- /-Enterorhabdus caecimuris\n",
            "           |\n",
            "            \\- /- /- /- /-Anaeroplasma\n"
          ],
          "name": "stdout"
        }
      ]
    },
    {
      "cell_type": "code",
      "metadata": {
        "id": "RhES4U-BtYC8",
        "colab_type": "code",
        "colab": {}
      },
      "source": [
        ""
      ],
      "execution_count": 0,
      "outputs": []
    }
  ]
}